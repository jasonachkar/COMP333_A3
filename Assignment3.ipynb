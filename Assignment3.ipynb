{
 "cells": [
  {
   "cell_type": "code",
   "id": "initial_id",
   "metadata": {
    "collapsed": true,
    "ExecuteTime": {
     "end_time": "2024-10-29T14:02:34.731740Z",
     "start_time": "2024-10-29T14:01:55.933781Z"
    }
   },
   "source": [
    "import pandas as pd\n",
    "import numpy as np\n",
    "import _sqlite3 as sql\n",
    "\n",
    "#Question 1\n",
    "accidentdf = pd.read_csv(\"accidents.csv\")\n",
    "casualtiesdf = pd.read_csv(\"casualties.csv\")\n",
    "casualtiesdf.rename(columns={'Acc_Index':'Accident_Index'},inplace=True)\n",
    "mergeddf = pd.merge(accidentdf,casualtiesdf, on='Accident_Index')\n",
    "mergeddf = mergeddf.to_csv('accidentsandcasualties.csv', index = False)"
   ],
   "outputs": [],
   "execution_count": 3
  },
  {
   "metadata": {
    "ExecuteTime": {
     "end_time": "2024-10-29T14:19:37.652389Z",
     "start_time": "2024-10-29T14:19:37.578224Z"
    }
   },
   "cell_type": "code",
   "source": [
    "#Question 2\n",
    "\n",
    "accidentdf['Accident_Severity'] = accidentdf['Accident_Severity'].replace({3:'Severe',2:'Medium',1:'Minor'})\n",
    "accidentdf.to_csv('accidents.csv')"
   ],
   "id": "b810a40f1f284683",
   "outputs": [],
   "execution_count": 7
  },
  {
   "metadata": {
    "ExecuteTime": {
     "end_time": "2024-10-29T14:31:10.634448Z",
     "start_time": "2024-10-29T14:31:10.569559Z"
    }
   },
   "cell_type": "code",
   "source": [
    "#Question 3\n",
    "accidentdf = accidentdf.fillna(-1)\n",
    "accidentdf.to_csv('accidents.csv')\n",
    "columns_with_msvals= []\n",
    "\n",
    "for column in accidentdf.columns:\n",
    "    if -1 in accidentdf[column].values:\n",
    "        columns_with_msvals.append(column)\n",
    "\n",
    "print(columns_with_msvals)"
   ],
   "id": "61ffbe81744a23ac",
   "outputs": [
    {
     "name": "stdout",
     "output_type": "stream",
     "text": [
      "['Location_Easting_OSGR ', 'Location_Northing_OSGR', 'Longitude', 'Latitude', 'Junction_Control', '2nd_Road_Class', '2nd_Road_Number', 'Pedestrian_Crossing-Human_Control', 'Pedestrian_Crossing-Physical_Facilities', 'Road_Surface_Conditions', 'Did_Police_Officer_Attend_Scene_of_Accident', 'LSOA_of_Accident_Location']\n"
     ]
    }
   ],
   "execution_count": 8
  },
  {
   "metadata": {
    "ExecuteTime": {
     "end_time": "2024-10-29T15:29:22.975156Z",
     "start_time": "2024-10-29T15:29:22.871420Z"
    }
   },
   "cell_type": "code",
   "source": [
    "for column in accidentdf.columns:\n",
    "    if pd.api.types.is_numeric_dtype(accidentdf[column]):\n",
    "        mean = accidentdf[column].mean()\n",
    "        std = accidentdf[column].std()\n",
    "        \n",
    "        # Define a list to store outliers for reporting\n",
    "        extvals = []\n",
    "\n",
    "        # Identify values that are more than 3 standard deviations away from the mean\n",
    "        for value in accidentdf[column]:\n",
    "            if abs(value - mean) > 3 * std:\n",
    "                extvals.append(value)\n",
    "        \n",
    "        # Filter out rows containing these outliers\n",
    "        accidentdf = accidentdf[~accidentdf[column].isin(extvals)]\n",
    "        \n",
    "        # Print the outliers for this column\n",
    "        print(f\"{column}: {extvals}\")\n",
    "\n",
    "# Save the cleaned data to a new CSV file\n",
    "accidentdf.to_csv('accidents.csv', index=False)"
   ],
   "id": "f3ebeec410c5447c",
   "outputs": [
    {
     "name": "stdout",
     "output_type": "stream",
     "text": [
      "Location_Easting_OSGR : [468690.0, 468670.0, 468340.0, 452330.0, 468270.0, 468560.0, 468400.0, 468740.0, 468540.0, 468340.0, 468430.0, 452240.0, 452330.0, 468494.0, 468457.0, 468643.0, 468483.0, 468450.0, 452150.0, 468450.0, 468600.0, 468650.0, 468530.0, 468261.0, 452210.0, 468740.0, 468691.0, 468639.0, 468617.0]\n",
      "Location_Northing_OSGR: [444450.0, 444451.0, 444440.0]\n",
      "Longitude: [-0.963289, -0.964341, -0.963591, -0.964355, -0.961751, -1.201916, -0.961935, -0.963591, -1.202905, -0.96454, -0.963385, -1.201333, -1.203713, -0.963554, -1.202482]\n",
      "Latitude: [53.892503, 53.893229, 53.892894]\n",
      "Police_Force: []\n",
      "Number_of_Vehicles: []\n",
      "Number_of_Casualties: [3, 3, 3, 3, 3, 3, 3, 3, 3, 3, 3, 3, 3, 3, 3, 3, 3, 3, 3, 3, 3, 3, 3, 3, 3, 3, 3, 3, 3, 3, 3, 3, 3, 3, 3, 3, 3, 3, 3, 3, 3, 3, 3, 3, 3, 3, 3, 3, 3, 3, 3, 3, 3, 3, 3, 3, 3, 3, 3, 3, 3, 3, 3, 3, 3, 3, 3, 3, 3, 3, 3, 3, 3, 3, 3, 3, 3, 3, 3, 3, 3, 3, 3, 3, 3, 3, 3, 3, 3, 3, 3, 3, 3, 3, 3, 3, 3, 3, 3, 3, 3, 3, 3, 3, 3, 3, 3, 3, 3, 3, 3, 3, 3, 3, 3, 3, 3, 3, 3, 3, 3, 3, 3, 3, 3, 3, 3, 3, 3, 3, 3, 3, 3, 3, 3, 3, 3, 3, 3, 3, 3, 3, 3, 3, 3, 3, 3, 3, 3, 3, 3, 3, 3, 3, 3, 3, 3, 3, 3, 3]\n",
      "Day_of_Week: []\n",
      "Local_Authority_(District): []\n",
      "1st_Road_Class: []\n",
      "1st_Road_Number: [4610, 5711, 4610, 5610, 5610, 5510, 4810, 5710, 5711, 4110, 5510, 5910, 4110, 5711, 3710, 5710, 5610, 4010, 5610, 5611, 5610, 4110, 4410, 5710, 5110, 4110, 3710, 4810, 5711, 5910, 5110, 5711, 4810, 5710, 5610, 5610, 5711, 5510, 5610, 5611, 4110, 5510, 5610, 4010, 4110, 4811, 5710, 5710, 5310, 4810, 5710, 5711, 5611, 5710, 5910, 3710, 5710, 5611, 4610, 5610, 5611, 5710, 4810, 5610, 4410, 5610, 4110, 4510, 5710, 4410, 5210, 5711, 5110, 4110, 4110, 4110, 5910, 5611, 4110, 5711, 5711, 4510, 4111, 5611, 4810, 5610, 5610, 4410, 5810, 4110, 5711, 4610, 4610, 4810, 5610, 5611, 5310, 4110, 5310, 5910, 5610, 4810, 4910, 5610, 5110, 5610, 4010, 4110, 5910, 4610, 4810, 5610, 5611, 5711, 4110]\n",
      "Road_Type: []\n",
      "Speed_limit: []\n",
      "Junction_Detail: []\n",
      "Junction_Control: []\n",
      "2nd_Road_Class: []\n",
      "2nd_Road_Number: [5310, 4010, 3310, 3610, 3510, 4810, 3510, 3710, 3512, 4810, 3510, 3610, 3510, 3611, 3510, 3510, 4910, 5510, 3611, 3410, 3310, 4810, 3710, 4910, 4810, 3310, 3310, 3610, 4810, 3710, 3310, 3310, 4810, 5110, 4810, 3610, 4910, 4510, 3710, 5310, 3710, 3610, 3710, 3510, 3611, 3510, 3610, 3510, 4110, 4810, 4810, 3410, 5510, 3310, 3510, 4110, 4810, 3610, 4410, 3510, 4110, 4110, 3510, 4810, 3410, 4010, 3510, 3510, 3610, 3610, 4010, 4810, 3510, 3610, 5510, 3510, 3410, 4810, 4010, 3610, 3310, 4810, 4510, 3610, 4110, 4111, 5110, 3410, 4410, 4010, 3512, 3611, 3310, 3610, 3610, 3510, 5010, 3510, 3310, 3611, 3610, 5110, 4810, 3510, 4112, 4810, 3610, 3510, 4111, 3610, 3510, 3610, 3510, 3310, 3310, 3310, 3410, 4810, 3410, 3410, 3610, 3610, 4010, 3510, 4110, 4110, 3610, 4110, 3610, 3610, 4510, 3510, 5510, 5310, 3610, 3610, 3610, 4910, 4110, 4111, 4110, 4110, 4110, 3510, 3510, 3510, 3510, 3610, 3810, 3510, 3510, 3710, 4410, 3610, 4810, 4810, 4810, 3510, 3310, 4010, 4110]\n",
      "Pedestrian_Crossing-Human_Control: []\n",
      "Pedestrian_Crossing-Physical_Facilities: []\n",
      "Light_Conditions: []\n",
      "Weather_Conditions: [5, 5, 4, 5, 4, 5, 5, 4, 5, 4, 4, 4, 3, 3, 4, 4, 5, 5, 5, 5, 4, 4, 3, 3, 5, 4, 5, 4, 4, 4, 4, 5, 4, 4, 4, 5, 4, 5, 5, 4, 4, 4, 4, 5, 5, 4, 5, 5, 4, 4, 4, 3, 4, 4, 4, 5, 5, 5, 5, 4, 5, 4, 4, 4, 5, 5, 4, 4, 4, 4, 4, 5, 4, 4, 4, 4, 5, 4, 4, 5, 4, 4, 4, 4, 4, 4, 4, 4, 5, 4, 5, 4, 4, 5, 4, 5, 5, 5, 4]\n",
      "Road_Surface_Conditions: []\n",
      "Special_Conditions_at_Site: [1, 1, 1, 1, 1, 1, 1, 1, 1, 1]\n",
      "Carriageway_Hazards: [1, 1, 1, 1, 1, 1, 1, 1, 1]\n",
      "Urban_or_Rural_Area: []\n",
      "Did_Police_Officer_Attend_Scene_of_Accident: []\n"
     ]
    }
   ],
   "execution_count": 15
  },
  {
   "metadata": {
    "ExecuteTime": {
     "end_time": "2024-10-29T16:50:16.871978Z",
     "start_time": "2024-10-29T16:50:16.841749Z"
    }
   },
   "cell_type": "code",
   "source": [
    "#Question 5\n",
    "casualtiesdf['is_minor'] = 'Yes'\n",
    "\n",
    "casualtiesdf.loc[casualtiesdf['Age_of_Casualty'] >= 18, 'is_minor'] = 'No'\n",
    "casualtiesdf.loc[casualtiesdf['Age_of_Casualty'] < 18, 'is_minor'] = 'Yes'\n",
    "\n",
    "casualtiesdf.to_csv('casualties.csv', index=False)"
   ],
   "id": "fe362ece7ef69d9c",
   "outputs": [],
   "execution_count": 21
  },
  {
   "metadata": {
    "ExecuteTime": {
     "end_time": "2024-10-29T17:11:46.049639Z",
     "start_time": "2024-10-29T17:10:52.696991Z"
    }
   },
   "cell_type": "code",
   "source": [
    "joinedtable = pd.read_csv('accidentsandcasualties.csv', low_memory=False)\n",
    "\n",
    "joinedtable['Location_Easting_OSGR '] = joinedtable['Location_Easting_OSGR '].fillna(joinedtable['Location_Easting_OSGR '].mean())\n",
    "joinedtable.to_csv('accidentsandcasualties.csv', index=False)"
   ],
   "id": "3e8f6f275de44d25",
   "outputs": [],
   "execution_count": 24
  }
 ],
 "metadata": {
  "kernelspec": {
   "display_name": "Python 3",
   "language": "python",
   "name": "python3"
  },
  "language_info": {
   "codemirror_mode": {
    "name": "ipython",
    "version": 2
   },
   "file_extension": ".py",
   "mimetype": "text/x-python",
   "name": "python",
   "nbconvert_exporter": "python",
   "pygments_lexer": "ipython2",
   "version": "2.7.6"
  }
 },
 "nbformat": 4,
 "nbformat_minor": 5
}
